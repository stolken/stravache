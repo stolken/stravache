{
 "cells": [
  {
   "cell_type": "code",
   "execution_count": 1,
   "metadata": {},
   "outputs": [],
   "source": [
    "from stravaio import strava_oauth2,StravaIO\n",
    "import pandas as pd\n",
    "import json\n",
    "import matplotlib as plt\n",
    "import seaborn as sns"
   ]
  },
  {
   "cell_type": "code",
   "execution_count": 2,
   "metadata": {},
   "outputs": [],
   "source": [
    "plt.rcParams[\"figure.figsize\"] = (30, 10)\n",
    "sns.set(rc={'figure.figsize':(30,10)})\n"
   ]
  },
  {
   "cell_type": "code",
   "execution_count": 3,
   "metadata": {},
   "outputs": [
    {
     "name": "stderr",
     "output_type": "stream",
     "text": [
      "2022-12-03 13:42:48.929 | INFO     | stravaio:strava_oauth2:343 - serving at port 8000\n",
      "2022-12-03 13:42:53.986 | DEBUG    | stravaio:run_server_and_wait_for_token:397 - code: c210d413e88cfde985eee53306dfd76b4e002f77\n",
      "2022-12-03 13:42:54.149 | DEBUG    | stravaio:run_server_and_wait_for_token:406 - Authorized athlete: f323415afa8977b09464adacc6d72617a7c58062\n"
     ]
    },
    {
     "name": "stdout",
     "output_type": "stream",
     "text": [
      "f323415afa8977b09464adacc6d72617a7c58062\n"
     ]
    }
   ],
   "source": [
    "oauth_obj = strava_oauth2(client_id=90994, client_secret=\"ed89e268fddb96e2a7aee3a2e13cbcc757c06283\")\n",
    "print(oauth_obj[\"access_token\"])"
   ]
  },
  {
   "cell_type": "code",
   "execution_count": null,
   "metadata": {},
   "outputs": [],
   "source": [
    "client = StravaIO(access_token=oauth_obj[\"access_token\"])"
   ]
  },
  {
   "cell_type": "code",
   "execution_count": null,
   "metadata": {},
   "outputs": [],
   "source": [
    "list_activities = client.get_logged_in_athlete_activities(after='10-01-2022')"
   ]
  },
  {
   "cell_type": "code",
   "execution_count": null,
   "metadata": {},
   "outputs": [],
   "source": [
    "def get_activity_stream_dataframe(athlete_id =94046257 ,id=8146797672):\n",
    "    streams = client.get_activity_streams(athlete_id =athlete_id ,id=id)\n",
    "    df = pd.DataFrame(streams.to_dict())\n",
    "    #act_stream[\"efficiency\"] = act_stream[\"velocity_smooth\"] / act_stream[\"heartrate\"]\n",
    "    return df"
   ]
  },
  {
   "cell_type": "code",
   "execution_count": null,
   "metadata": {},
   "outputs": [],
   "source": [
    "ath = client.get_logged_in_athlete()\n",
    "ath"
   ]
  },
  {
   "cell_type": "code",
   "execution_count": null,
   "metadata": {},
   "outputs": [],
   "source": [
    "df = pd.DataFrame()\n",
    "for act in list_activities:\n",
    "    act_df = pd.json_normalize(act.to_dict())\n",
    "    if act.type != 'VirtualRun':\n",
    "        act_stream_df = get_activity_stream_dataframe(athlete_id =act.athlete.id ,id=act.id)\n",
    "        act_df.loc[0,\"heartrate\"] = act_stream_df.heartrate.mean()\n",
    "    df = pd.concat([df, act_df])    \n",
    "df"
   ]
  },
  {
   "cell_type": "code",
   "execution_count": null,
   "metadata": {},
   "outputs": [],
   "source": [
    "df = df.set_index(\"id\")"
   ]
  },
  {
   "cell_type": "code",
   "execution_count": null,
   "metadata": {},
   "outputs": [],
   "source": [
    "df.info()"
   ]
  },
  {
   "cell_type": "code",
   "execution_count": null,
   "metadata": {},
   "outputs": [],
   "source": [
    "df.describe()"
   ]
  },
  {
   "cell_type": "code",
   "execution_count": null,
   "metadata": {},
   "outputs": [],
   "source": [
    "df[\"moving_time_minute\"] = df[\"moving_time\"] /  60 \n",
    "df[\"distance_km\"] = df[\"distance\"] /  1000\n"
   ]
  },
  {
   "cell_type": "code",
   "execution_count": null,
   "metadata": {},
   "outputs": [],
   "source": [
    "df.plot(y=\"distance_km\",x=\"moving_time_minute\", kind='scatter',c=\"heartrate\",colormap='coolwarm',s=50,figsize=(30, 10))\n"
   ]
  },
  {
   "cell_type": "code",
   "execution_count": null,
   "metadata": {},
   "outputs": [],
   "source": [
    "df_2022 = df.loc[df.start_date_local  > \"2022-01-06\",['start_date_local',\"distance\",\"moving_time\"]]"
   ]
  },
  {
   "cell_type": "code",
   "execution_count": null,
   "metadata": {},
   "outputs": [],
   "source": [
    "df_2022_week_summary = df_2022.groupby([df_2022['start_date_local'].dt.isocalendar().week]).agg({'distance': ['sum', 'max']})"
   ]
  },
  {
   "cell_type": "code",
   "execution_count": null,
   "metadata": {},
   "outputs": [],
   "source": [
    "df_2022_week_summary_km = df_2022_week_summary / 1000"
   ]
  },
  {
   "cell_type": "code",
   "execution_count": null,
   "metadata": {},
   "outputs": [],
   "source": [
    "df_2022_week_summary_km.plot.bar(figsize=(30, 10))"
   ]
  },
  {
   "cell_type": "code",
   "execution_count": null,
   "metadata": {},
   "outputs": [],
   "source": [
    "sns.scatterplot(data=df,x=\"average_speed\", y=\"heartrate\",size=\"distance\",hue=\"start_date\",sizes=(20, 2000),palette='coolwarm')"
   ]
  },
  {
   "cell_type": "code",
   "execution_count": null,
   "metadata": {},
   "outputs": [],
   "source": [
    "act_df = get_activity_stream_dataframe()\n",
    "act_df.describe()"
   ]
  },
  {
   "cell_type": "code",
   "execution_count": null,
   "metadata": {},
   "outputs": [],
   "source": [
    "act_df.loc[:,[\"time\",\"velocity_smooth\",\"heartrate\",\"moving\",\"altitude\"]].plot( figsize=(30, 10),x=\"time\")"
   ]
  },
  {
   "cell_type": "code",
   "execution_count": null,
   "metadata": {},
   "outputs": [],
   "source": [
    "act_df.loc[:,[\"time\",\"velocity_smooth\",\"heartrate\",\"moving\",\"grade_smooth\",\"altitude\"]].plot( figsize=(30, 10),x=\"time\")"
   ]
  },
  {
   "cell_type": "code",
   "execution_count": null,
   "metadata": {},
   "outputs": [],
   "source": [
    "sns.lineplot(data=act_df.loc[:,[\"velocity_smooth\",\"heartrate\",\"moving\",\"altitude\"]], palette=\"tab10\", linewidth=2.5)"
   ]
  }
 ],
 "metadata": {
  "kernelspec": {
   "display_name": "Python 3.9.13 64-bit (windows store)",
   "language": "python",
   "name": "python3"
  },
  "language_info": {
   "codemirror_mode": {
    "name": "ipython",
    "version": 3
   },
   "file_extension": ".py",
   "mimetype": "text/x-python",
   "name": "python",
   "nbconvert_exporter": "python",
   "pygments_lexer": "ipython3",
   "version": "3.9.13"
  },
  "orig_nbformat": 4,
  "vscode": {
   "interpreter": {
    "hash": "c520d16d2d90d621d5b4ef00c42d787c7e4165edaabcca7aef293b647d1f1437"
   }
  }
 },
 "nbformat": 4,
 "nbformat_minor": 2
}
